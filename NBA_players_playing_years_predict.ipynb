{
 "cells": [
  {
   "cell_type": "markdown",
   "id": "cd8adbc7",
   "metadata": {},
   "source": [
    "### Importing important Libraries"
   ]
  },
  {
   "cell_type": "code",
   "execution_count": 15,
   "id": "8ab61845",
   "metadata": {},
   "outputs": [],
   "source": [
    "import numpy as np # linear algebra\n",
    "import pandas as pd # data processing, CSV file I/O (e.g. pd.read_csv)\n",
    "import matplotlib.pyplot as plt # data visualization\n",
    "import seaborn as sns # statistical data visualization\n",
    "from sklearn.preprocessing import LabelEncoder\n",
    "%matplotlib inline\n",
    "import warnings\n",
    "warnings.filterwarnings('ignore')"
   ]
  },
  {
   "cell_type": "markdown",
   "id": "07de2338",
   "metadata": {},
   "source": [
    "### Importing Required Libraries for Various classifier"
   ]
  },
  {
   "cell_type": "code",
   "execution_count": 17,
   "id": "6c43e0c3",
   "metadata": {},
   "outputs": [],
   "source": [
    "from sklearn.naive_bayes import GaussianNB\n",
    "from sklearn.linear_model import LogisticRegression\n",
    "from sklearn.neighbors import KNeighborsClassifier\n",
    "from sklearn.tree import DecisionTreeClassifier\n",
    "from sklearn.ensemble import RandomForestClassifier\n",
    "from xgboost import XGBClassifier, XGBRFClassifier\n",
    "from xgboost import plot_tree, plot_importance\n",
    "from sklearn.ensemble import AdaBoostClassifier\n",
    "from sklearn.svm import SVC\n",
    "from sklearn.metrics import confusion_matrix, accuracy_score, roc_auc_score, roc_curve,plot_confusion_matrix\n",
    "from sklearn import preprocessing\n",
    "from sklearn.feature_selection import RFE"
   ]
  },
  {
   "cell_type": "markdown",
   "id": "3e2bc2cc",
   "metadata": {},
   "source": [
    "### Data Description\n",
    "\n",
    " \n",
    "\n",
    "GP: Games Played (here you might find some values in decimal, consider them to be the floor integer, for example, if the value is 12.789, the number of games played by the player is 12)\n",
    "\n",
    " \n",
    "\n",
    "The values for given attributes are averaged over all the games played by players\n",
    "\n",
    "MIN:  Minutes Played\n",
    "\n",
    "PTS: Number of points per game\n",
    "\n",
    "FGM: Field goals made\n",
    "\n",
    "FGA: Field goals attempt\n",
    "\n",
    "FG%: field goals percent\n",
    "\n",
    "3P Made: 3 point made\n",
    "\n",
    "3PA: 3 points attempt\n",
    "\n",
    "3P%: 3 point percent\n",
    "\n",
    "FTM: Free throw made\n",
    "\n",
    "FTA: Free throw attempts\n",
    "\n",
    "FT%: Free throw percent\n",
    "\n",
    "OREB: Offensive rebounds\n",
    "\n",
    "DREB: Defensive rebounds\n",
    "\n",
    "REB: Rebounds\n",
    "\n",
    "AST: Assists\n",
    "\n",
    "STL: Steals\n",
    "\n",
    "BLK: Blocks\n",
    "\n",
    "TOV: Turnovers\n",
    "\n",
    "Target: 0 if career years played < 5, 1 if career years played >= 5"
   ]
  },
  {
   "cell_type": "markdown",
   "id": "2f930a5d",
   "metadata": {},
   "source": [
    "###  Read training  data"
   ]
  },
  {
   "cell_type": "code",
   "execution_count": 18,
   "id": "994d32ce",
   "metadata": {},
   "outputs": [
    {
     "data": {
      "text/html": [
       "<div>\n",
       "<style scoped>\n",
       "    .dataframe tbody tr th:only-of-type {\n",
       "        vertical-align: middle;\n",
       "    }\n",
       "\n",
       "    .dataframe tbody tr th {\n",
       "        vertical-align: top;\n",
       "    }\n",
       "\n",
       "    .dataframe thead th {\n",
       "        text-align: right;\n",
       "    }\n",
       "</style>\n",
       "<table border=\"1\" class=\"dataframe\">\n",
       "  <thead>\n",
       "    <tr style=\"text-align: right;\">\n",
       "      <th></th>\n",
       "      <th>GP</th>\n",
       "      <th>MIN</th>\n",
       "      <th>PTS</th>\n",
       "      <th>FGM</th>\n",
       "      <th>FGA</th>\n",
       "      <th>FG%</th>\n",
       "      <th>3P Made</th>\n",
       "      <th>3PA</th>\n",
       "      <th>3P%</th>\n",
       "      <th>FTM</th>\n",
       "      <th>FTA</th>\n",
       "      <th>FT%</th>\n",
       "      <th>OREB</th>\n",
       "      <th>DREB</th>\n",
       "      <th>REB</th>\n",
       "      <th>AST</th>\n",
       "      <th>STL</th>\n",
       "      <th>BLK</th>\n",
       "      <th>TOV</th>\n",
       "      <th>Target</th>\n",
       "    </tr>\n",
       "  </thead>\n",
       "  <tbody>\n",
       "    <tr>\n",
       "      <th>0</th>\n",
       "      <td>59.0</td>\n",
       "      <td>12.8</td>\n",
       "      <td>3.4</td>\n",
       "      <td>1.3</td>\n",
       "      <td>2.6</td>\n",
       "      <td>51.0</td>\n",
       "      <td>0.2</td>\n",
       "      <td>0.3</td>\n",
       "      <td>50.0</td>\n",
       "      <td>0.7</td>\n",
       "      <td>0.8</td>\n",
       "      <td>78.0</td>\n",
       "      <td>1.1</td>\n",
       "      <td>2.3</td>\n",
       "      <td>3.3</td>\n",
       "      <td>0.5</td>\n",
       "      <td>0.3</td>\n",
       "      <td>0.4</td>\n",
       "      <td>0.5</td>\n",
       "      <td>1</td>\n",
       "    </tr>\n",
       "    <tr>\n",
       "      <th>1</th>\n",
       "      <td>31.0</td>\n",
       "      <td>10.7</td>\n",
       "      <td>3.4</td>\n",
       "      <td>1.2</td>\n",
       "      <td>3.3</td>\n",
       "      <td>35.3</td>\n",
       "      <td>0.5</td>\n",
       "      <td>2.1</td>\n",
       "      <td>25.8</td>\n",
       "      <td>0.5</td>\n",
       "      <td>0.9</td>\n",
       "      <td>55.2</td>\n",
       "      <td>0.3</td>\n",
       "      <td>1.1</td>\n",
       "      <td>1.4</td>\n",
       "      <td>0.4</td>\n",
       "      <td>0.3</td>\n",
       "      <td>0.1</td>\n",
       "      <td>0.2</td>\n",
       "      <td>0</td>\n",
       "    </tr>\n",
       "    <tr>\n",
       "      <th>2</th>\n",
       "      <td>48.0</td>\n",
       "      <td>9.3</td>\n",
       "      <td>4.5</td>\n",
       "      <td>1.7</td>\n",
       "      <td>3.4</td>\n",
       "      <td>49.7</td>\n",
       "      <td>0.0</td>\n",
       "      <td>0.1</td>\n",
       "      <td>0.0</td>\n",
       "      <td>1.2</td>\n",
       "      <td>1.9</td>\n",
       "      <td>61.5</td>\n",
       "      <td>0.4</td>\n",
       "      <td>0.8</td>\n",
       "      <td>1.2</td>\n",
       "      <td>0.8</td>\n",
       "      <td>0.5</td>\n",
       "      <td>0.4</td>\n",
       "      <td>1.0</td>\n",
       "      <td>0</td>\n",
       "    </tr>\n",
       "    <tr>\n",
       "      <th>3</th>\n",
       "      <td>80.0</td>\n",
       "      <td>27.7</td>\n",
       "      <td>11.2</td>\n",
       "      <td>3.5</td>\n",
       "      <td>9.4</td>\n",
       "      <td>37.4</td>\n",
       "      <td>1.3</td>\n",
       "      <td>4.1</td>\n",
       "      <td>32.9</td>\n",
       "      <td>2.8</td>\n",
       "      <td>3.3</td>\n",
       "      <td>85.0</td>\n",
       "      <td>0.8</td>\n",
       "      <td>1.6</td>\n",
       "      <td>2.4</td>\n",
       "      <td>3.9</td>\n",
       "      <td>1.3</td>\n",
       "      <td>0.1</td>\n",
       "      <td>2.2</td>\n",
       "      <td>1</td>\n",
       "    </tr>\n",
       "    <tr>\n",
       "      <th>4</th>\n",
       "      <td>58.0</td>\n",
       "      <td>18.4</td>\n",
       "      <td>5.8</td>\n",
       "      <td>1.9</td>\n",
       "      <td>5.3</td>\n",
       "      <td>36.7</td>\n",
       "      <td>0.0</td>\n",
       "      <td>0.1</td>\n",
       "      <td>25.0</td>\n",
       "      <td>1.9</td>\n",
       "      <td>3.1</td>\n",
       "      <td>61.7</td>\n",
       "      <td>0.5</td>\n",
       "      <td>0.7</td>\n",
       "      <td>1.2</td>\n",
       "      <td>1.9</td>\n",
       "      <td>1.1</td>\n",
       "      <td>0.2</td>\n",
       "      <td>1.7</td>\n",
       "      <td>0</td>\n",
       "    </tr>\n",
       "  </tbody>\n",
       "</table>\n",
       "</div>"
      ],
      "text/plain": [
       "     GP   MIN   PTS  FGM  FGA   FG%  3P Made  3PA   3P%  FTM  FTA   FT%  OREB  \\\n",
       "0  59.0  12.8   3.4  1.3  2.6  51.0      0.2  0.3  50.0  0.7  0.8  78.0   1.1   \n",
       "1  31.0  10.7   3.4  1.2  3.3  35.3      0.5  2.1  25.8  0.5  0.9  55.2   0.3   \n",
       "2  48.0   9.3   4.5  1.7  3.4  49.7      0.0  0.1   0.0  1.2  1.9  61.5   0.4   \n",
       "3  80.0  27.7  11.2  3.5  9.4  37.4      1.3  4.1  32.9  2.8  3.3  85.0   0.8   \n",
       "4  58.0  18.4   5.8  1.9  5.3  36.7      0.0  0.1  25.0  1.9  3.1  61.7   0.5   \n",
       "\n",
       "   DREB  REB  AST  STL  BLK  TOV  Target  \n",
       "0   2.3  3.3  0.5  0.3  0.4  0.5       1  \n",
       "1   1.1  1.4  0.4  0.3  0.1  0.2       0  \n",
       "2   0.8  1.2  0.8  0.5  0.4  1.0       0  \n",
       "3   1.6  2.4  3.9  1.3  0.1  2.2       1  \n",
       "4   0.7  1.2  1.9  1.1  0.2  1.7       0  "
      ]
     },
     "execution_count": 18,
     "metadata": {},
     "output_type": "execute_result"
    }
   ],
   "source": [
    "train_df=pd.read_csv(r'Train_data.csv')\n",
    "train_df.head()"
   ]
  },
  {
   "cell_type": "code",
   "execution_count": 19,
   "id": "3d6fe13e",
   "metadata": {},
   "outputs": [
    {
     "data": {
      "text/plain": [
       "GP         float64\n",
       "MIN        float64\n",
       "PTS        float64\n",
       "FGM        float64\n",
       "FGA        float64\n",
       "FG%        float64\n",
       "3P Made    float64\n",
       "3PA        float64\n",
       "3P%        float64\n",
       "FTM        float64\n",
       "FTA        float64\n",
       "FT%        float64\n",
       "OREB       float64\n",
       "DREB       float64\n",
       "REB        float64\n",
       "AST        float64\n",
       "STL        float64\n",
       "BLK        float64\n",
       "TOV        float64\n",
       "Target       int64\n",
       "dtype: object"
      ]
     },
     "execution_count": 19,
     "metadata": {},
     "output_type": "execute_result"
    }
   ],
   "source": [
    "train_df.dtypes"
   ]
  },
  {
   "cell_type": "code",
   "execution_count": 20,
   "id": "da84310b",
   "metadata": {},
   "outputs": [
    {
     "data": {
      "text/html": [
       "<div>\n",
       "<style scoped>\n",
       "    .dataframe tbody tr th:only-of-type {\n",
       "        vertical-align: middle;\n",
       "    }\n",
       "\n",
       "    .dataframe tbody tr th {\n",
       "        vertical-align: top;\n",
       "    }\n",
       "\n",
       "    .dataframe thead th {\n",
       "        text-align: right;\n",
       "    }\n",
       "</style>\n",
       "<table border=\"1\" class=\"dataframe\">\n",
       "  <thead>\n",
       "    <tr style=\"text-align: right;\">\n",
       "      <th></th>\n",
       "      <th>GP</th>\n",
       "      <th>MIN</th>\n",
       "      <th>PTS</th>\n",
       "      <th>FGM</th>\n",
       "      <th>FGA</th>\n",
       "      <th>FG%</th>\n",
       "      <th>3P Made</th>\n",
       "      <th>3PA</th>\n",
       "      <th>3P%</th>\n",
       "      <th>FTM</th>\n",
       "      <th>FTA</th>\n",
       "      <th>FT%</th>\n",
       "      <th>OREB</th>\n",
       "      <th>DREB</th>\n",
       "      <th>REB</th>\n",
       "      <th>AST</th>\n",
       "      <th>STL</th>\n",
       "      <th>BLK</th>\n",
       "      <th>TOV</th>\n",
       "      <th>Target</th>\n",
       "    </tr>\n",
       "  </thead>\n",
       "  <tbody>\n",
       "    <tr>\n",
       "      <th>count</th>\n",
       "      <td>1101.000000</td>\n",
       "      <td>1101.000000</td>\n",
       "      <td>1101.000000</td>\n",
       "      <td>1101.000000</td>\n",
       "      <td>1101.000000</td>\n",
       "      <td>1101.000000</td>\n",
       "      <td>1101.000000</td>\n",
       "      <td>1101.000000</td>\n",
       "      <td>1101.000000</td>\n",
       "      <td>1101.000000</td>\n",
       "      <td>1101.000000</td>\n",
       "      <td>1101.000000</td>\n",
       "      <td>1101.000000</td>\n",
       "      <td>1101.000000</td>\n",
       "      <td>1101.000000</td>\n",
       "      <td>1101.000000</td>\n",
       "      <td>1101.000000</td>\n",
       "      <td>1101.000000</td>\n",
       "      <td>1101.000000</td>\n",
       "      <td>1101.000000</td>\n",
       "    </tr>\n",
       "    <tr>\n",
       "      <th>mean</th>\n",
       "      <td>59.008156</td>\n",
       "      <td>16.928284</td>\n",
       "      <td>6.502344</td>\n",
       "      <td>2.511125</td>\n",
       "      <td>5.645747</td>\n",
       "      <td>43.912555</td>\n",
       "      <td>0.241959</td>\n",
       "      <td>0.767455</td>\n",
       "      <td>19.050425</td>\n",
       "      <td>1.241914</td>\n",
       "      <td>1.741848</td>\n",
       "      <td>70.495847</td>\n",
       "      <td>0.958240</td>\n",
       "      <td>1.937014</td>\n",
       "      <td>2.891927</td>\n",
       "      <td>1.472706</td>\n",
       "      <td>0.589403</td>\n",
       "      <td>0.344204</td>\n",
       "      <td>1.150499</td>\n",
       "      <td>0.499546</td>\n",
       "    </tr>\n",
       "    <tr>\n",
       "      <th>std</th>\n",
       "      <td>17.236886</td>\n",
       "      <td>8.034209</td>\n",
       "      <td>4.163856</td>\n",
       "      <td>1.611502</td>\n",
       "      <td>3.422292</td>\n",
       "      <td>6.106910</td>\n",
       "      <td>0.363008</td>\n",
       "      <td>1.017214</td>\n",
       "      <td>15.513640</td>\n",
       "      <td>0.937585</td>\n",
       "      <td>1.272047</td>\n",
       "      <td>10.381068</td>\n",
       "      <td>0.771344</td>\n",
       "      <td>1.342627</td>\n",
       "      <td>2.039694</td>\n",
       "      <td>1.376592</td>\n",
       "      <td>0.386147</td>\n",
       "      <td>0.418840</td>\n",
       "      <td>0.687706</td>\n",
       "      <td>0.500227</td>\n",
       "    </tr>\n",
       "    <tr>\n",
       "      <th>min</th>\n",
       "      <td>11.000000</td>\n",
       "      <td>3.100000</td>\n",
       "      <td>1.100000</td>\n",
       "      <td>0.400000</td>\n",
       "      <td>1.000000</td>\n",
       "      <td>25.000000</td>\n",
       "      <td>0.000000</td>\n",
       "      <td>0.000000</td>\n",
       "      <td>0.000000</td>\n",
       "      <td>0.000000</td>\n",
       "      <td>0.000000</td>\n",
       "      <td>0.000000</td>\n",
       "      <td>0.000000</td>\n",
       "      <td>0.200000</td>\n",
       "      <td>0.300000</td>\n",
       "      <td>0.000000</td>\n",
       "      <td>0.000000</td>\n",
       "      <td>0.000000</td>\n",
       "      <td>0.100000</td>\n",
       "      <td>0.000000</td>\n",
       "    </tr>\n",
       "    <tr>\n",
       "      <th>25%</th>\n",
       "      <td>46.223257</td>\n",
       "      <td>10.492268</td>\n",
       "      <td>3.587756</td>\n",
       "      <td>1.400000</td>\n",
       "      <td>3.200000</td>\n",
       "      <td>40.000000</td>\n",
       "      <td>0.000000</td>\n",
       "      <td>0.000000</td>\n",
       "      <td>0.000000</td>\n",
       "      <td>0.600000</td>\n",
       "      <td>0.900000</td>\n",
       "      <td>64.900000</td>\n",
       "      <td>0.400000</td>\n",
       "      <td>1.000000</td>\n",
       "      <td>1.400000</td>\n",
       "      <td>0.600000</td>\n",
       "      <td>0.300000</td>\n",
       "      <td>0.100000</td>\n",
       "      <td>0.700000</td>\n",
       "      <td>0.000000</td>\n",
       "    </tr>\n",
       "    <tr>\n",
       "      <th>50%</th>\n",
       "      <td>59.387147</td>\n",
       "      <td>15.386486</td>\n",
       "      <td>5.200000</td>\n",
       "      <td>2.000000</td>\n",
       "      <td>4.600000</td>\n",
       "      <td>43.652785</td>\n",
       "      <td>0.100000</td>\n",
       "      <td>0.300000</td>\n",
       "      <td>22.600000</td>\n",
       "      <td>1.000000</td>\n",
       "      <td>1.400000</td>\n",
       "      <td>71.502462</td>\n",
       "      <td>0.700000</td>\n",
       "      <td>1.600000</td>\n",
       "      <td>2.273596</td>\n",
       "      <td>1.041951</td>\n",
       "      <td>0.500000</td>\n",
       "      <td>0.200000</td>\n",
       "      <td>0.988945</td>\n",
       "      <td>0.000000</td>\n",
       "    </tr>\n",
       "    <tr>\n",
       "      <th>75%</th>\n",
       "      <td>76.000000</td>\n",
       "      <td>21.830403</td>\n",
       "      <td>8.300000</td>\n",
       "      <td>3.200000</td>\n",
       "      <td>6.900000</td>\n",
       "      <td>47.700000</td>\n",
       "      <td>0.400000</td>\n",
       "      <td>1.195634</td>\n",
       "      <td>32.300000</td>\n",
       "      <td>1.600000</td>\n",
       "      <td>2.200000</td>\n",
       "      <td>77.436718</td>\n",
       "      <td>1.300000</td>\n",
       "      <td>2.500000</td>\n",
       "      <td>3.700000</td>\n",
       "      <td>1.900000</td>\n",
       "      <td>0.800000</td>\n",
       "      <td>0.400000</td>\n",
       "      <td>1.400000</td>\n",
       "      <td>1.000000</td>\n",
       "    </tr>\n",
       "    <tr>\n",
       "      <th>max</th>\n",
       "      <td>82.000000</td>\n",
       "      <td>40.900000</td>\n",
       "      <td>24.300000</td>\n",
       "      <td>9.000000</td>\n",
       "      <td>18.900000</td>\n",
       "      <td>73.700000</td>\n",
       "      <td>2.300000</td>\n",
       "      <td>6.500000</td>\n",
       "      <td>100.000000</td>\n",
       "      <td>7.500000</td>\n",
       "      <td>10.200000</td>\n",
       "      <td>100.000000</td>\n",
       "      <td>5.300000</td>\n",
       "      <td>9.600000</td>\n",
       "      <td>13.900000</td>\n",
       "      <td>10.600000</td>\n",
       "      <td>2.500000</td>\n",
       "      <td>3.900000</td>\n",
       "      <td>4.200000</td>\n",
       "      <td>1.000000</td>\n",
       "    </tr>\n",
       "  </tbody>\n",
       "</table>\n",
       "</div>"
      ],
      "text/plain": [
       "                GP          MIN          PTS          FGM          FGA  \\\n",
       "count  1101.000000  1101.000000  1101.000000  1101.000000  1101.000000   \n",
       "mean     59.008156    16.928284     6.502344     2.511125     5.645747   \n",
       "std      17.236886     8.034209     4.163856     1.611502     3.422292   \n",
       "min      11.000000     3.100000     1.100000     0.400000     1.000000   \n",
       "25%      46.223257    10.492268     3.587756     1.400000     3.200000   \n",
       "50%      59.387147    15.386486     5.200000     2.000000     4.600000   \n",
       "75%      76.000000    21.830403     8.300000     3.200000     6.900000   \n",
       "max      82.000000    40.900000    24.300000     9.000000    18.900000   \n",
       "\n",
       "               FG%      3P Made          3PA          3P%          FTM  \\\n",
       "count  1101.000000  1101.000000  1101.000000  1101.000000  1101.000000   \n",
       "mean     43.912555     0.241959     0.767455    19.050425     1.241914   \n",
       "std       6.106910     0.363008     1.017214    15.513640     0.937585   \n",
       "min      25.000000     0.000000     0.000000     0.000000     0.000000   \n",
       "25%      40.000000     0.000000     0.000000     0.000000     0.600000   \n",
       "50%      43.652785     0.100000     0.300000    22.600000     1.000000   \n",
       "75%      47.700000     0.400000     1.195634    32.300000     1.600000   \n",
       "max      73.700000     2.300000     6.500000   100.000000     7.500000   \n",
       "\n",
       "               FTA          FT%         OREB         DREB          REB  \\\n",
       "count  1101.000000  1101.000000  1101.000000  1101.000000  1101.000000   \n",
       "mean      1.741848    70.495847     0.958240     1.937014     2.891927   \n",
       "std       1.272047    10.381068     0.771344     1.342627     2.039694   \n",
       "min       0.000000     0.000000     0.000000     0.200000     0.300000   \n",
       "25%       0.900000    64.900000     0.400000     1.000000     1.400000   \n",
       "50%       1.400000    71.502462     0.700000     1.600000     2.273596   \n",
       "75%       2.200000    77.436718     1.300000     2.500000     3.700000   \n",
       "max      10.200000   100.000000     5.300000     9.600000    13.900000   \n",
       "\n",
       "               AST          STL          BLK          TOV       Target  \n",
       "count  1101.000000  1101.000000  1101.000000  1101.000000  1101.000000  \n",
       "mean      1.472706     0.589403     0.344204     1.150499     0.499546  \n",
       "std       1.376592     0.386147     0.418840     0.687706     0.500227  \n",
       "min       0.000000     0.000000     0.000000     0.100000     0.000000  \n",
       "25%       0.600000     0.300000     0.100000     0.700000     0.000000  \n",
       "50%       1.041951     0.500000     0.200000     0.988945     0.000000  \n",
       "75%       1.900000     0.800000     0.400000     1.400000     1.000000  \n",
       "max      10.600000     2.500000     3.900000     4.200000     1.000000  "
      ]
     },
     "execution_count": 20,
     "metadata": {},
     "output_type": "execute_result"
    }
   ],
   "source": [
    "train_df.describe()"
   ]
  },
  {
   "cell_type": "code",
   "execution_count": 21,
   "id": "eeecefa8",
   "metadata": {},
   "outputs": [
    {
     "name": "stdout",
     "output_type": "stream",
     "text": [
      "Train dataset shape : (1101, 20)\n"
     ]
    }
   ],
   "source": [
    "print(\"Train dataset shape :\",train_df.shape)"
   ]
  },
  {
   "cell_type": "markdown",
   "id": "a449bee4",
   "metadata": {},
   "source": [
    "### Checking if there is any missing value"
   ]
  },
  {
   "cell_type": "code",
   "execution_count": 22,
   "id": "26d80192",
   "metadata": {},
   "outputs": [
    {
     "name": "stdout",
     "output_type": "stream",
     "text": [
      "GP         0\n",
      "MIN        0\n",
      "PTS        0\n",
      "FGM        0\n",
      "FGA        0\n",
      "FG%        0\n",
      "3P Made    0\n",
      "3PA        0\n",
      "3P%        0\n",
      "FTM        0\n",
      "FTA        0\n",
      "FT%        0\n",
      "OREB       0\n",
      "DREB       0\n",
      "REB        0\n",
      "AST        0\n",
      "STL        0\n",
      "BLK        0\n",
      "TOV        0\n",
      "Target     0\n",
      "dtype: int64\n"
     ]
    }
   ],
   "source": [
    "print(train_df.isna().sum())"
   ]
  },
  {
   "cell_type": "markdown",
   "id": "c799cc18",
   "metadata": {},
   "source": [
    "### Prepare Data for training and testing"
   ]
  },
  {
   "cell_type": "code",
   "execution_count": 23,
   "id": "fbbf08cd",
   "metadata": {},
   "outputs": [],
   "source": [
    "X=train_df.drop(['Target'],axis=1)\n",
    "y=train_df.Target"
   ]
  },
  {
   "cell_type": "code",
   "execution_count": 24,
   "id": "72559f0c",
   "metadata": {},
   "outputs": [],
   "source": [
    "#  split X and y into training and testing sets\n",
    "\n",
    "from sklearn.model_selection import train_test_split\n",
    "\n",
    "X_train, X_test, y_train, y_test = train_test_split(X, y, test_size = 0.20, random_state =10,stratify=y)"
   ]
  },
  {
   "cell_type": "code",
   "execution_count": 25,
   "id": "01c6c280",
   "metadata": {},
   "outputs": [
    {
     "name": "stdout",
     "output_type": "stream",
     "text": [
      "(880, 19) (221, 19)\n"
     ]
    }
   ],
   "source": [
    "# check the shape of X_train and X_test\n",
    "print(X_train.shape, X_test.shape)"
   ]
  },
  {
   "cell_type": "markdown",
   "id": "07164084",
   "metadata": {},
   "source": [
    "### Function for accuracy check for each learning model"
   ]
  },
  {
   "cell_type": "code",
   "execution_count": 26,
   "id": "3a796213",
   "metadata": {},
   "outputs": [],
   "source": [
    "def score(model, title = \"Default\"):\n",
    "    model.fit(X_train, y_train)\n",
    "    preds = model.predict(X_test)\n",
    " #   print(confusion_matrix(y_test, preds))\n",
    "    accuracy = round(accuracy_score(y_test, preds), 5)\n",
    "    print('Accuracy for', title, ':', accuracy, '\\n')"
   ]
  },
  {
   "cell_type": "markdown",
   "id": "6a8280d5",
   "metadata": {},
   "source": [
    "# Logistic regression"
   ]
  },
  {
   "cell_type": "code",
   "execution_count": 27,
   "id": "87619c8b",
   "metadata": {},
   "outputs": [
    {
     "name": "stdout",
     "output_type": "stream",
     "text": [
      "Accuracy for Logistic Regression : 0.73756 \n",
      "\n"
     ]
    }
   ],
   "source": [
    "lg = LogisticRegression(random_state=25, solver='lbfgs')\n",
    "lg.fit(X_train, y_train)\n",
    "score(lg, \"Logistic Regression\")\n",
    "preds=lg.predict(X_test)"
   ]
  },
  {
   "cell_type": "code",
   "execution_count": 28,
   "id": "324ba013",
   "metadata": {},
   "outputs": [
    {
     "data": {
      "text/plain": [
       "<sklearn.metrics._plot.confusion_matrix.ConfusionMatrixDisplay at 0x1f265718160>"
      ]
     },
     "execution_count": 28,
     "metadata": {},
     "output_type": "execute_result"
    },
    {
     "data": {
      "image/png": "[encoded data removed]",
      "text/plain": [
       "<Figure size 432x288 with 2 Axes>"
      ]
     },
     "metadata": {
      "needs_background": "light"
     },
     "output_type": "display_data"
    }
   ],
   "source": [
    "plot_confusion_matrix(lg,\n",
    "                      X_test,\n",
    "                      y_test,\n",
    "                     )"
   ]
  },
  {
   "cell_type": "markdown",
   "id": "cae18418",
   "metadata": {},
   "source": [
    "# KNN: KNeighborsClassifier"
   ]
  },
  {
   "cell_type": "code",
   "execution_count": 29,
   "id": "0d62528a",
   "metadata": {},
   "outputs": [
    {
     "name": "stdout",
     "output_type": "stream",
     "text": [
      "Accuracy for KNN classifier : 0.74661 \n",
      "\n"
     ]
    }
   ],
   "source": [
    "knn_class=KNeighborsClassifier(n_neighbors=11,metric='minkowski',p=2)\n",
    "knn_class.fit(X_train,y_train)\n",
    "score(knn_class,\"KNN classifier\")"
   ]
  },
  {
   "cell_type": "code",
   "execution_count": 30,
   "id": "36512d33",
   "metadata": {},
   "outputs": [
    {
     "data": {
      "text/plain": [
       "<sklearn.metrics._plot.confusion_matrix.ConfusionMatrixDisplay at 0x1f265e5d7c0>"
      ]
     },
     "execution_count": 30,
     "metadata": {},
     "output_type": "execute_result"
    },
    {
     "data": {
      "image/png": "[encoded data removed]",
      "text/plain": [
       "<Figure size 432x288 with 2 Axes>"
      ]
     },
     "metadata": {
      "needs_background": "light"
     },
     "output_type": "display_data"
    }
   ],
   "source": [
    "plot_confusion_matrix(knn_class,\n",
    "                      X_test,\n",
    "                      y_test,\n",
    "                     )"
   ]
  },
  {
   "cell_type": "markdown",
   "id": "54048d26",
   "metadata": {},
   "source": [
    "## Support Vector Machine"
   ]
  },
  {
   "cell_type": "code",
   "execution_count": 31,
   "id": "e8798333",
   "metadata": {},
   "outputs": [
    {
     "name": "stdout",
     "output_type": "stream",
     "text": [
      "Accuracy for KNN classifier : 0.72851 \n",
      "\n"
     ]
    }
   ],
   "source": [
    "sv_model =SVC()\n",
    "sv_model.fit(X_train,y_train)\n",
    "score(sv_model,\"KNN classifier\")"
   ]
  },
  {
   "cell_type": "code",
   "execution_count": 32,
   "id": "2f736525",
   "metadata": {},
   "outputs": [
    {
     "data": {
      "text/plain": [
       "<sklearn.metrics._plot.confusion_matrix.ConfusionMatrixDisplay at 0x1f2661a8250>"
      ]
     },
     "execution_count": 32,
     "metadata": {},
     "output_type": "execute_result"
    },
    {
     "data": {
      "image/png": "[encoded data removed]",
      "text/plain": [
       "<Figure size 432x288 with 2 Axes>"
      ]
     },
     "metadata": {
      "needs_background": "light"
     },
     "output_type": "display_data"
    }
   ],
   "source": [
    "plot_confusion_matrix(sv_model,\n",
    "                      X_test,\n",
    "                      y_test,\n",
    "                     )"
   ]
  },
  {
   "cell_type": "markdown",
   "id": "edb07680",
   "metadata": {},
   "source": [
    "# Naive Bayes: GaussianNB"
   ]
  },
  {
   "cell_type": "code",
   "execution_count": 33,
   "id": "bb9df067",
   "metadata": {},
   "outputs": [
    {
     "name": "stdout",
     "output_type": "stream",
     "text": [
      "Accuracy for Naive Bayes : 0.71946 \n",
      "\n"
     ]
    }
   ],
   "source": [
    "nb = GaussianNB()\n",
    "nb.fit(X_train, y_train)\n",
    "score(nb,\"Naive Bayes\")"
   ]
  },
  {
   "cell_type": "code",
   "execution_count": 34,
   "id": "5f93055b",
   "metadata": {},
   "outputs": [
    {
     "data": {
      "text/plain": [
       "<sklearn.metrics._plot.confusion_matrix.ConfusionMatrixDisplay at 0x1f266252250>"
      ]
     },
     "execution_count": 34,
     "metadata": {},
     "output_type": "execute_result"
    },
    {
     "data": {
      "image/png": "[encoded data removed]",
      "text/plain": [
       "<Figure size 432x288 with 2 Axes>"
      ]
     },
     "metadata": {
      "needs_background": "light"
     },
     "output_type": "display_data"
    }
   ],
   "source": [
    "plot_confusion_matrix(nb,\n",
    "                      X_test,\n",
    "                      y_test,\n",
    "                     )"
   ]
  },
  {
   "cell_type": "markdown",
   "id": "6b3f4d57",
   "metadata": {},
   "source": [
    "# Decission trees: DecisionTreeClassifier"
   ]
  },
  {
   "cell_type": "code",
   "execution_count": 35,
   "id": "9afa14db",
   "metadata": {},
   "outputs": [
    {
     "name": "stdout",
     "output_type": "stream",
     "text": [
      "Accuracy for DECISION tree classifier : 0.66063 \n",
      "\n"
     ]
    }
   ],
   "source": [
    "# Decission trees: DecisionTreeClassifier\n",
    "#YOUR CODE HERE\n",
    "dtree=DecisionTreeClassifier(random_state=10)\n",
    "dtree.fit(X_train,y_train)\n",
    "score(dtree,\"DECISION tree classifier\")"
   ]
  },
  {
   "cell_type": "code",
   "execution_count": 36,
   "id": "4bef53fa",
   "metadata": {},
   "outputs": [
    {
     "name": "stdout",
     "output_type": "stream",
     "text": [
      "Accuracy for DECISION tree classifier : 0.63801 \n",
      "\n"
     ]
    }
   ],
   "source": [
    "dtree_gini=DecisionTreeClassifier(criterion= 'gini', max_depth=10, random_state=10)\n",
    "dtree_gini.fit(X_train,y_train)\n",
    "score(dtree_gini,\"DECISION tree classifier\")"
   ]
  },
  {
   "cell_type": "code",
   "execution_count": 37,
   "id": "af920023",
   "metadata": {},
   "outputs": [
    {
     "name": "stdout",
     "output_type": "stream",
     "text": [
      "Accuracy for DECISION tree classifier : 0.70588 \n",
      "\n"
     ]
    }
   ],
   "source": [
    "#YOUR CODE HERE\n",
    "dtree_en=DecisionTreeClassifier(criterion= 'entropy', max_depth=10, random_state=10)\n",
    "dtree_en.fit(X_train,y_train)\n",
    "score(dtree_en,\"DECISION tree classifier\")"
   ]
  },
  {
   "cell_type": "code",
   "execution_count": 38,
   "id": "7f921bac",
   "metadata": {},
   "outputs": [
    {
     "data": {
      "text/plain": [
       "<sklearn.metrics._plot.confusion_matrix.ConfusionMatrixDisplay at 0x1f265e5dee0>"
      ]
     },
     "execution_count": 38,
     "metadata": {},
     "output_type": "execute_result"
    },
    {
     "data": {
      "image/png": "[encoded data removed]",
      "text/plain": [
       "<Figure size 432x288 with 2 Axes>"
      ]
     },
     "metadata": {
      "needs_background": "light"
     },
     "output_type": "display_data"
    }
   ],
   "source": [
    "plot_confusion_matrix(dtree_en,\n",
    "                      X_test,\n",
    "                      y_test,\n",
    "                     )"
   ]
  },
  {
   "cell_type": "markdown",
   "id": "de9751ae",
   "metadata": {},
   "source": [
    "# Random Forest"
   ]
  },
  {
   "cell_type": "code",
   "execution_count": 39,
   "id": "8a5e3531",
   "metadata": {},
   "outputs": [
    {
     "name": "stdout",
     "output_type": "stream",
     "text": [
      "Accuracy for RandomForestClassifier  : 0.80543 \n",
      "\n"
     ]
    }
   ],
   "source": [
    "# Random Forest\n",
    "rfclass=RandomForestClassifier(n_estimators=1000, max_depth=10, random_state=10)\n",
    "rfclass.fit(X_train,y_train)\n",
    "score(rfclass,\"RandomForestClassifier \")"
   ]
  },
  {
   "cell_type": "code",
   "execution_count": 40,
   "id": "df2bb138",
   "metadata": {},
   "outputs": [
    {
     "data": {
      "text/plain": [
       "<sklearn.metrics._plot.confusion_matrix.ConfusionMatrixDisplay at 0x1f266639fd0>"
      ]
     },
     "execution_count": 40,
     "metadata": {},
     "output_type": "execute_result"
    },
    {
     "data": {
      "image/png": "[encoded data removed]",
      "text/plain": [
       "<Figure size 432x288 with 2 Axes>"
      ]
     },
     "metadata": {
      "needs_background": "light"
     },
     "output_type": "display_data"
    }
   ],
   "source": [
    "plot_confusion_matrix(rfclass,\n",
    "                      X_test,\n",
    "                      y_test,\n",
    "                     )"
   ]
  },
  {
   "cell_type": "markdown",
   "id": "13e59483",
   "metadata": {},
   "source": [
    "# AdaBoostClassifier"
   ]
  },
  {
   "cell_type": "code",
   "execution_count": 42,
   "id": "869a0992",
   "metadata": {},
   "outputs": [
    {
     "name": "stdout",
     "output_type": "stream",
     "text": [
      "Accuracy for AdaBoostClassifier : 0.71041 \n",
      "\n"
     ]
    }
   ],
   "source": [
    "# AdaBoostClassifier\n",
    "adbclass=AdaBoostClassifier(n_estimators=1000,random_state=10)\n",
    "adbclass.fit(X_train,y_train)\n",
    "score(adbclass, \"AdaBoostClassifier\")"
   ]
  },
  {
   "cell_type": "code",
   "execution_count": 43,
   "id": "6a4d3c5f",
   "metadata": {},
   "outputs": [
    {
     "data": {
      "text/plain": [
       "<sklearn.metrics._plot.confusion_matrix.ConfusionMatrixDisplay at 0x1f265972b50>"
      ]
     },
     "execution_count": 43,
     "metadata": {},
     "output_type": "execute_result"
    },
    {
     "data": {
      "image/png": "[encoded data removed]",
      "text/plain": [
       "<Figure size 432x288 with 2 Axes>"
      ]
     },
     "metadata": {
      "needs_background": "light"
     },
     "output_type": "display_data"
    }
   ],
   "source": [
    "plot_confusion_matrix(adbclass,\n",
    "                      X_test,\n",
    "                      y_test,\n",
    "                     )"
   ]
  },
  {
   "cell_type": "markdown",
   "id": "3f8938a9",
   "metadata": {},
   "source": [
    " # XGBClassifier"
   ]
  },
  {
   "cell_type": "code",
   "execution_count": 44,
   "id": "d0ab0d70",
   "metadata": {},
   "outputs": [
    {
     "name": "stdout",
     "output_type": "stream",
     "text": [
      "[0]\tvalidation_0-aucpr:0.74666\n",
      "[1]\tvalidation_0-aucpr:0.75316\n",
      "[2]\tvalidation_0-aucpr:0.79175\n",
      "[3]\tvalidation_0-aucpr:0.80583\n",
      "[4]\tvalidation_0-aucpr:0.81289\n",
      "[5]\tvalidation_0-aucpr:0.82266\n",
      "[6]\tvalidation_0-aucpr:0.82887\n",
      "[7]\tvalidation_0-aucpr:0.83497\n",
      "[8]\tvalidation_0-aucpr:0.84121\n",
      "[9]\tvalidation_0-aucpr:0.84817\n",
      "[10]\tvalidation_0-aucpr:0.84439\n",
      "[11]\tvalidation_0-aucpr:0.84828\n",
      "[12]\tvalidation_0-aucpr:0.85153\n",
      "[13]\tvalidation_0-aucpr:0.85211\n",
      "[14]\tvalidation_0-aucpr:0.85941\n",
      "[15]\tvalidation_0-aucpr:0.85942\n",
      "[16]\tvalidation_0-aucpr:0.86249\n",
      "[17]\tvalidation_0-aucpr:0.86968\n",
      "[18]\tvalidation_0-aucpr:0.86757\n",
      "[19]\tvalidation_0-aucpr:0.87027\n",
      "[20]\tvalidation_0-aucpr:0.87294\n",
      "[21]\tvalidation_0-aucpr:0.87152\n",
      "[22]\tvalidation_0-aucpr:0.87223\n",
      "[23]\tvalidation_0-aucpr:0.87675\n",
      "[24]\tvalidation_0-aucpr:0.88027\n",
      "[25]\tvalidation_0-aucpr:0.88021\n",
      "[26]\tvalidation_0-aucpr:0.88066\n",
      "[27]\tvalidation_0-aucpr:0.88171\n",
      "[28]\tvalidation_0-aucpr:0.88047\n",
      "[29]\tvalidation_0-aucpr:0.88007\n",
      "[30]\tvalidation_0-aucpr:0.88197\n",
      "[31]\tvalidation_0-aucpr:0.88126\n",
      "[32]\tvalidation_0-aucpr:0.88186\n",
      "[33]\tvalidation_0-aucpr:0.88267\n",
      "[34]\tvalidation_0-aucpr:0.88375\n",
      "[35]\tvalidation_0-aucpr:0.88149\n",
      "[36]\tvalidation_0-aucpr:0.88322\n",
      "[37]\tvalidation_0-aucpr:0.88189\n",
      "[38]\tvalidation_0-aucpr:0.88110\n",
      "[39]\tvalidation_0-aucpr:0.88282\n",
      "[40]\tvalidation_0-aucpr:0.88302\n",
      "[41]\tvalidation_0-aucpr:0.88241\n",
      "[42]\tvalidation_0-aucpr:0.88462\n",
      "[43]\tvalidation_0-aucpr:0.88510\n",
      "[44]\tvalidation_0-aucpr:0.88539\n",
      "[45]\tvalidation_0-aucpr:0.88565\n",
      "[46]\tvalidation_0-aucpr:0.88553\n",
      "[47]\tvalidation_0-aucpr:0.88546\n",
      "[48]\tvalidation_0-aucpr:0.88431\n",
      "[49]\tvalidation_0-aucpr:0.88502\n",
      "[50]\tvalidation_0-aucpr:0.88275\n",
      "[51]\tvalidation_0-aucpr:0.88257\n",
      "[52]\tvalidation_0-aucpr:0.88214\n",
      "[53]\tvalidation_0-aucpr:0.88434\n",
      "[54]\tvalidation_0-aucpr:0.88409\n",
      "[55]\tvalidation_0-aucpr:0.88247\n"
     ]
    },
    {
     "data": {
      "text/html": [
       "<style>#sk-container-id-1 {color: black;background-color: white;}#sk-container-id-1 pre{padding: 0;}#sk-container-id-1 div.sk-toggleable {background-color: white;}#sk-container-id-1 label.sk-toggleable__label {cursor: pointer;display: block;width: 100%;margin-bottom: 0;padding: 0.3em;box-sizing: border-box;text-align: center;}#sk-container-id-1 label.sk-toggleable__label-arrow:before {content: \"▸\";float: left;margin-right: 0.25em;color: #696969;}#sk-container-id-1 label.sk-toggleable__label-arrow:hover:before {color: black;}#sk-container-id-1 div.sk-estimator:hover label.sk-toggleable__label-arrow:before {color: black;}#sk-container-id-1 div.sk-toggleable__content {max-height: 0;max-width: 0;overflow: hidden;text-align: left;background-color: #f0f8ff;}#sk-container-id-1 div.sk-toggleable__content pre {margin: 0.2em;color: black;border-radius: 0.25em;background-color: #f0f8ff;}#sk-container-id-1 input.sk-toggleable__control:checked~div.sk-toggleable__content {max-height: 200px;max-width: 100%;overflow: auto;}#sk-container-id-1 input.sk-toggleable__control:checked~label.sk-toggleable__label-arrow:before {content: \"▾\";}#sk-container-id-1 div.sk-estimator input.sk-toggleable__control:checked~label.sk-toggleable__label {background-color: #d4ebff;}#sk-container-id-1 div.sk-label input.sk-toggleable__control:checked~label.sk-toggleable__label {background-color: #d4ebff;}#sk-container-id-1 input.sk-hidden--visually {border: 0;clip: rect(1px 1px 1px 1px);clip: rect(1px, 1px, 1px, 1px);height: 1px;margin: -1px;overflow: hidden;padding: 0;position: absolute;width: 1px;}#sk-container-id-1 div.sk-estimator {font-family: monospace;background-color: #f0f8ff;border: 1px dotted black;border-radius: 0.25em;box-sizing: border-box;margin-bottom: 0.5em;}#sk-container-id-1 div.sk-estimator:hover {background-color: #d4ebff;}#sk-container-id-1 div.sk-parallel-item::after {content: \"\";width: 100%;border-bottom: 1px solid gray;flex-grow: 1;}#sk-container-id-1 div.sk-label:hover label.sk-toggleable__label {background-color: #d4ebff;}#sk-container-id-1 div.sk-serial::before {content: \"\";position: absolute;border-left: 1px solid gray;box-sizing: border-box;top: 0;bottom: 0;left: 50%;z-index: 0;}#sk-container-id-1 div.sk-serial {display: flex;flex-direction: column;align-items: center;background-color: white;padding-right: 0.2em;padding-left: 0.2em;position: relative;}#sk-container-id-1 div.sk-item {position: relative;z-index: 1;}#sk-container-id-1 div.sk-parallel {display: flex;align-items: stretch;justify-content: center;background-color: white;position: relative;}#sk-container-id-1 div.sk-item::before, #sk-container-id-1 div.sk-parallel-item::before {content: \"\";position: absolute;border-left: 1px solid gray;box-sizing: border-box;top: 0;bottom: 0;left: 50%;z-index: -1;}#sk-container-id-1 div.sk-parallel-item {display: flex;flex-direction: column;z-index: 1;position: relative;background-color: white;}#sk-container-id-1 div.sk-parallel-item:first-child::after {align-self: flex-end;width: 50%;}#sk-container-id-1 div.sk-parallel-item:last-child::after {align-self: flex-start;width: 50%;}#sk-container-id-1 div.sk-parallel-item:only-child::after {width: 0;}#sk-container-id-1 div.sk-dashed-wrapped {border: 1px dashed gray;margin: 0 0.4em 0.5em 0.4em;box-sizing: border-box;padding-bottom: 0.4em;background-color: white;}#sk-container-id-1 div.sk-label label {font-family: monospace;font-weight: bold;display: inline-block;line-height: 1.2em;}#sk-container-id-1 div.sk-label-container {text-align: center;}#sk-container-id-1 div.sk-container {/* jupyter's `normalize.less` sets `[hidden] { display: none; }` but bootstrap.min.css set `[hidden] { display: none !important; }` so we also need the `!important` here to be able to override the default hidden behavior on the sphinx rendered scikit-learn.org. See: https://github.com/scikit-learn/scikit-learn/issues/21755 */display: inline-block !important;position: relative;}#sk-container-id-1 div.sk-text-repr-fallback {display: none;}</style><div id=\"sk-container-id-1\" class=\"sk-top-container\"><div class=\"sk-text-repr-fallback\"><pre>XGBClassifier(base_score=0.5, booster=&#x27;gbtree&#x27;, callbacks=None,\n",
       "              colsample_bylevel=1, colsample_bynode=1, colsample_bytree=1,\n",
       "              early_stopping_rounds=None, enable_categorical=False,\n",
       "              eval_metric=None, gamma=0, gpu_id=-1, grow_policy=&#x27;depthwise&#x27;,\n",
       "              importance_type=None, interaction_constraints=&#x27;&#x27;,\n",
       "              learning_rate=0.1, max_bin=256, max_cat_to_onehot=4,\n",
       "              max_delta_step=0, max_depth=6, max_leaves=0, min_child_weight=1,\n",
       "              missing=nan, monotone_constraints=&#x27;()&#x27;, n_estimators=1000,\n",
       "              n_jobs=0, num_parallel_tree=1, predictor=&#x27;auto&#x27;, random_state=10,\n",
       "              reg_alpha=0, reg_lambda=1, ...)</pre><b>In a Jupyter environment, please rerun this cell to show the HTML representation or trust the notebook. <br />On GitHub, the HTML representation is unable to render, please try loading this page with nbviewer.org.</b></div><div class=\"sk-container\" hidden><div class=\"sk-item\"><div class=\"sk-estimator sk-toggleable\"><input class=\"sk-toggleable__control sk-hidden--visually\" id=\"sk-estimator-id-1\" type=\"checkbox\" checked><label for=\"sk-estimator-id-1\" class=\"sk-toggleable__label sk-toggleable__label-arrow\">XGBClassifier</label><div class=\"sk-toggleable__content\"><pre>XGBClassifier(base_score=0.5, booster=&#x27;gbtree&#x27;, callbacks=None,\n",
       "              colsample_bylevel=1, colsample_bynode=1, colsample_bytree=1,\n",
       "              early_stopping_rounds=None, enable_categorical=False,\n",
       "              eval_metric=None, gamma=0, gpu_id=-1, grow_policy=&#x27;depthwise&#x27;,\n",
       "              importance_type=None, interaction_constraints=&#x27;&#x27;,\n",
       "              learning_rate=0.1, max_bin=256, max_cat_to_onehot=4,\n",
       "              max_delta_step=0, max_depth=6, max_leaves=0, min_child_weight=1,\n",
       "              missing=nan, monotone_constraints=&#x27;()&#x27;, n_estimators=1000,\n",
       "              n_jobs=0, num_parallel_tree=1, predictor=&#x27;auto&#x27;, random_state=10,\n",
       "              reg_alpha=0, reg_lambda=1, ...)</pre></div></div></div></div></div>"
      ],
      "text/plain": [
       "XGBClassifier(base_score=0.5, booster='gbtree', callbacks=None,\n",
       "              colsample_bylevel=1, colsample_bynode=1, colsample_bytree=1,\n",
       "              early_stopping_rounds=None, enable_categorical=False,\n",
       "              eval_metric=None, gamma=0, gpu_id=-1, grow_policy='depthwise',\n",
       "              importance_type=None, interaction_constraints='',\n",
       "              learning_rate=0.1, max_bin=256, max_cat_to_onehot=4,\n",
       "              max_delta_step=0, max_depth=6, max_leaves=0, min_child_weight=1,\n",
       "              missing=nan, monotone_constraints='()', n_estimators=1000,\n",
       "              n_jobs=0, num_parallel_tree=1, predictor='auto', random_state=10,\n",
       "              reg_alpha=0, reg_lambda=1, ...)"
      ]
     },
     "execution_count": 44,
     "metadata": {},
     "output_type": "execute_result"
    }
   ],
   "source": [
    "from sklearn.metrics import plot_confusion_matrix\n",
    "clf1 = XGBClassifier( objective='binary:logistic',n_estimators=1000,learning_rate=0.1,random_state=10)\n",
    "\n",
    "clf1.fit(X_train,y_train,verbose=True,early_stopping_rounds=10,eval_metric='aucpr',eval_set=[(X_test,y_test)])\n"
   ]
  },
  {
   "cell_type": "code",
   "execution_count": 45,
   "id": "1b26c4b7",
   "metadata": {},
   "outputs": [
    {
     "name": "stdout",
     "output_type": "stream",
     "text": [
      "Accuracy for : 0.79638 \n",
      "\n"
     ]
    }
   ],
   "source": [
    "preds=clf1.predict(X_test)\n",
    "accuracy = round(accuracy_score(y_test, preds), 5)\n",
    "print('Accuracy for', ':', accuracy, '\\n')"
   ]
  },
  {
   "cell_type": "code",
   "execution_count": 46,
   "id": "6496896a",
   "metadata": {},
   "outputs": [
    {
     "data": {
      "text/plain": [
       "<sklearn.metrics._plot.confusion_matrix.ConfusionMatrixDisplay at 0x1f26608ae80>"
      ]
     },
     "execution_count": 46,
     "metadata": {},
     "output_type": "execute_result"
    },
    {
     "data": {
      "image/png": "[encoded data removed]",
      "text/plain": [
       "<Figure size 432x288 with 2 Axes>"
      ]
     },
     "metadata": {
      "needs_background": "light"
     },
     "output_type": "display_data"
    }
   ],
   "source": [
    "plot_confusion_matrix(clf1,\n",
    "                      X_test,\n",
    "                      y_test,\n",
    "                     )"
   ]
  },
  {
   "cell_type": "markdown",
   "id": "77788734",
   "metadata": {},
   "source": [
    "####  As among all the machine learning model random forrest classifier gives the best accuracy , so we will consider this model for prediction of given test data."
   ]
  },
  {
   "cell_type": "code",
   "execution_count": 47,
   "id": "2d30322c",
   "metadata": {},
   "outputs": [
    {
     "data": {
      "text/html": [
       "<div>\n",
       "<style scoped>\n",
       "    .dataframe tbody tr th:only-of-type {\n",
       "        vertical-align: middle;\n",
       "    }\n",
       "\n",
       "    .dataframe tbody tr th {\n",
       "        vertical-align: top;\n",
       "    }\n",
       "\n",
       "    .dataframe thead th {\n",
       "        text-align: right;\n",
       "    }\n",
       "</style>\n",
       "<table border=\"1\" class=\"dataframe\">\n",
       "  <thead>\n",
       "    <tr style=\"text-align: right;\">\n",
       "      <th></th>\n",
       "      <th>GP</th>\n",
       "      <th>MIN</th>\n",
       "      <th>PTS</th>\n",
       "      <th>FGM</th>\n",
       "      <th>FGA</th>\n",
       "      <th>FG%</th>\n",
       "      <th>3P Made</th>\n",
       "      <th>3PA</th>\n",
       "      <th>3P%</th>\n",
       "      <th>FTM</th>\n",
       "      <th>FTA</th>\n",
       "      <th>FT%</th>\n",
       "      <th>OREB</th>\n",
       "      <th>DREB</th>\n",
       "      <th>REB</th>\n",
       "      <th>AST</th>\n",
       "      <th>STL</th>\n",
       "      <th>BLK</th>\n",
       "      <th>TOV</th>\n",
       "    </tr>\n",
       "  </thead>\n",
       "  <tbody>\n",
       "    <tr>\n",
       "      <th>0</th>\n",
       "      <td>44.0</td>\n",
       "      <td>13.0</td>\n",
       "      <td>6.6</td>\n",
       "      <td>2.5</td>\n",
       "      <td>5.6</td>\n",
       "      <td>45.3</td>\n",
       "      <td>0.4</td>\n",
       "      <td>1.3</td>\n",
       "      <td>32.7</td>\n",
       "      <td>1.1</td>\n",
       "      <td>1.7</td>\n",
       "      <td>65.3</td>\n",
       "      <td>0.8</td>\n",
       "      <td>0.6</td>\n",
       "      <td>1.4</td>\n",
       "      <td>1.1</td>\n",
       "      <td>0.7</td>\n",
       "      <td>0.2</td>\n",
       "      <td>1.0</td>\n",
       "    </tr>\n",
       "    <tr>\n",
       "      <th>1</th>\n",
       "      <td>51.0</td>\n",
       "      <td>9.1</td>\n",
       "      <td>2.7</td>\n",
       "      <td>1.0</td>\n",
       "      <td>2.7</td>\n",
       "      <td>39.0</td>\n",
       "      <td>0.1</td>\n",
       "      <td>0.3</td>\n",
       "      <td>23.5</td>\n",
       "      <td>0.6</td>\n",
       "      <td>0.8</td>\n",
       "      <td>69.8</td>\n",
       "      <td>0.3</td>\n",
       "      <td>0.7</td>\n",
       "      <td>1.0</td>\n",
       "      <td>0.9</td>\n",
       "      <td>0.6</td>\n",
       "      <td>0.1</td>\n",
       "      <td>0.7</td>\n",
       "    </tr>\n",
       "    <tr>\n",
       "      <th>2</th>\n",
       "      <td>51.0</td>\n",
       "      <td>15.1</td>\n",
       "      <td>5.7</td>\n",
       "      <td>2.2</td>\n",
       "      <td>5.2</td>\n",
       "      <td>41.2</td>\n",
       "      <td>0.3</td>\n",
       "      <td>0.8</td>\n",
       "      <td>32.5</td>\n",
       "      <td>1.1</td>\n",
       "      <td>1.6</td>\n",
       "      <td>69.1</td>\n",
       "      <td>0.4</td>\n",
       "      <td>1.3</td>\n",
       "      <td>1.7</td>\n",
       "      <td>2.1</td>\n",
       "      <td>0.7</td>\n",
       "      <td>0.0</td>\n",
       "      <td>1.4</td>\n",
       "    </tr>\n",
       "    <tr>\n",
       "      <th>3</th>\n",
       "      <td>15.0</td>\n",
       "      <td>7.9</td>\n",
       "      <td>1.9</td>\n",
       "      <td>0.7</td>\n",
       "      <td>2.5</td>\n",
       "      <td>27.0</td>\n",
       "      <td>0.0</td>\n",
       "      <td>0.0</td>\n",
       "      <td>0.0</td>\n",
       "      <td>0.5</td>\n",
       "      <td>0.8</td>\n",
       "      <td>66.7</td>\n",
       "      <td>0.5</td>\n",
       "      <td>1.1</td>\n",
       "      <td>1.5</td>\n",
       "      <td>0.5</td>\n",
       "      <td>0.1</td>\n",
       "      <td>0.1</td>\n",
       "      <td>1.0</td>\n",
       "    </tr>\n",
       "    <tr>\n",
       "      <th>4</th>\n",
       "      <td>36.0</td>\n",
       "      <td>14.4</td>\n",
       "      <td>5.8</td>\n",
       "      <td>2.3</td>\n",
       "      <td>5.4</td>\n",
       "      <td>43.1</td>\n",
       "      <td>0.0</td>\n",
       "      <td>0.1</td>\n",
       "      <td>50.0</td>\n",
       "      <td>1.1</td>\n",
       "      <td>1.4</td>\n",
       "      <td>82.0</td>\n",
       "      <td>1.1</td>\n",
       "      <td>1.4</td>\n",
       "      <td>2.4</td>\n",
       "      <td>0.9</td>\n",
       "      <td>0.3</td>\n",
       "      <td>0.2</td>\n",
       "      <td>0.9</td>\n",
       "    </tr>\n",
       "  </tbody>\n",
       "</table>\n",
       "</div>"
      ],
      "text/plain": [
       "     GP   MIN  PTS  FGM  FGA   FG%  3P Made  3PA   3P%  FTM  FTA   FT%  OREB  \\\n",
       "0  44.0  13.0  6.6  2.5  5.6  45.3      0.4  1.3  32.7  1.1  1.7  65.3   0.8   \n",
       "1  51.0   9.1  2.7  1.0  2.7  39.0      0.1  0.3  23.5  0.6  0.8  69.8   0.3   \n",
       "2  51.0  15.1  5.7  2.2  5.2  41.2      0.3  0.8  32.5  1.1  1.6  69.1   0.4   \n",
       "3  15.0   7.9  1.9  0.7  2.5  27.0      0.0  0.0   0.0  0.5  0.8  66.7   0.5   \n",
       "4  36.0  14.4  5.8  2.3  5.4  43.1      0.0  0.1  50.0  1.1  1.4  82.0   1.1   \n",
       "\n",
       "   DREB  REB  AST  STL  BLK  TOV  \n",
       "0   0.6  1.4  1.1  0.7  0.2  1.0  \n",
       "1   0.7  1.0  0.9  0.6  0.1  0.7  \n",
       "2   1.3  1.7  2.1  0.7  0.0  1.4  \n",
       "3   1.1  1.5  0.5  0.1  0.1  1.0  \n",
       "4   1.4  2.4  0.9  0.3  0.2  0.9  "
      ]
     },
     "execution_count": 47,
     "metadata": {},
     "output_type": "execute_result"
    }
   ],
   "source": [
    "test_data=pd.read_csv(\"Test_data.csv\")\n",
    "test_data.head()"
   ]
  },
  {
   "cell_type": "code",
   "execution_count": 48,
   "id": "4280a579",
   "metadata": {},
   "outputs": [
    {
     "name": "stdout",
     "output_type": "stream",
     "text": [
      "Shape of test dataset : (555, 19)\n"
     ]
    }
   ],
   "source": [
    "print(\"Shape of test dataset :\",test_data.shape)"
   ]
  },
  {
   "cell_type": "code",
   "execution_count": 49,
   "id": "e189c000",
   "metadata": {},
   "outputs": [
    {
     "name": "stdout",
     "output_type": "stream",
     "text": [
      "GP         0\n",
      "MIN        0\n",
      "PTS        0\n",
      "FGM        0\n",
      "FGA        0\n",
      "FG%        0\n",
      "3P Made    0\n",
      "3PA        0\n",
      "3P%        0\n",
      "FTM        0\n",
      "FTA        0\n",
      "FT%        0\n",
      "OREB       0\n",
      "DREB       0\n",
      "REB        0\n",
      "AST        0\n",
      "STL        0\n",
      "BLK        0\n",
      "TOV        0\n",
      "dtype: int64\n"
     ]
    }
   ],
   "source": [
    "print(test_data.isna().sum())"
   ]
  },
  {
   "cell_type": "code",
   "execution_count": 50,
   "id": "65eacf50",
   "metadata": {},
   "outputs": [],
   "source": [
    "pred_csv=rfclass.predict(test_data)"
   ]
  },
  {
   "cell_type": "code",
   "execution_count": 51,
   "id": "fb56e228",
   "metadata": {},
   "outputs": [
    {
     "data": {
      "text/html": [
       "<div>\n",
       "<style scoped>\n",
       "    .dataframe tbody tr th:only-of-type {\n",
       "        vertical-align: middle;\n",
       "    }\n",
       "\n",
       "    .dataframe tbody tr th {\n",
       "        vertical-align: top;\n",
       "    }\n",
       "\n",
       "    .dataframe thead th {\n",
       "        text-align: right;\n",
       "    }\n",
       "</style>\n",
       "<table border=\"1\" class=\"dataframe\">\n",
       "  <thead>\n",
       "    <tr style=\"text-align: right;\">\n",
       "      <th></th>\n",
       "      <th>prediction</th>\n",
       "    </tr>\n",
       "  </thead>\n",
       "  <tbody>\n",
       "    <tr>\n",
       "      <th>0</th>\n",
       "      <td>0</td>\n",
       "    </tr>\n",
       "    <tr>\n",
       "      <th>1</th>\n",
       "      <td>0</td>\n",
       "    </tr>\n",
       "    <tr>\n",
       "      <th>2</th>\n",
       "      <td>0</td>\n",
       "    </tr>\n",
       "    <tr>\n",
       "      <th>3</th>\n",
       "      <td>0</td>\n",
       "    </tr>\n",
       "    <tr>\n",
       "      <th>4</th>\n",
       "      <td>1</td>\n",
       "    </tr>\n",
       "  </tbody>\n",
       "</table>\n",
       "</div>"
      ],
      "text/plain": [
       "   prediction\n",
       "0           0\n",
       "1           0\n",
       "2           0\n",
       "3           0\n",
       "4           1"
      ]
     },
     "execution_count": 51,
     "metadata": {},
     "output_type": "execute_result"
    }
   ],
   "source": [
    "res=pd.DataFrame(pred_csv,columns=[\"prediction\"])\n",
    "\n",
    "res.head()\n"
   ]
  },
  {
   "cell_type": "code",
   "execution_count": 52,
   "id": "8510a13d",
   "metadata": {},
   "outputs": [],
   "source": [
    "# save predicted file in csv format\n",
    "res.to_csv(\"predict_result.csv\",index=False)"
   ]
  },
  {
   "cell_type": "code",
   "execution_count": null,
   "id": "7935a2d2",
   "metadata": {},
   "outputs": [],
   "source": []
  },
  {
   "cell_type": "code",
   "execution_count": null,
   "id": "248fb379",
   "metadata": {},
   "outputs": [],
   "source": []
  }
 ],
 "metadata": {
  "kernelspec": {
   "display_name": "Python 3 (ipykernel)",
   "language": "python",
   "name": "python3"
  },
  "language_info": {
   "codemirror_mode": {
    "name": "ipython",
    "version": 3
   },
   "file_extension": ".py",
   "mimetype": "text/x-python",
   "name": "python",
   "nbconvert_exporter": "python",
   "pygments_lexer": "ipython3",
   "version": "3.9.7"
  }
 },
 "nbformat": 4,
 "nbformat_minor": 5
}
